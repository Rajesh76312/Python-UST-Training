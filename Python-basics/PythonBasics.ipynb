{
 "cells": [
  {
   "cell_type": "code",
   "execution_count": 1,
   "id": "6d882cdf",
   "metadata": {},
   "outputs": [
    {
     "data": {
      "text/plain": [
       "['False',\n",
       " 'None',\n",
       " 'True',\n",
       " 'and',\n",
       " 'as',\n",
       " 'assert',\n",
       " 'async',\n",
       " 'await',\n",
       " 'break',\n",
       " 'class',\n",
       " 'continue',\n",
       " 'def',\n",
       " 'del',\n",
       " 'elif',\n",
       " 'else',\n",
       " 'except',\n",
       " 'finally',\n",
       " 'for',\n",
       " 'from',\n",
       " 'global',\n",
       " 'if',\n",
       " 'import',\n",
       " 'in',\n",
       " 'is',\n",
       " 'lambda',\n",
       " 'nonlocal',\n",
       " 'not',\n",
       " 'or',\n",
       " 'pass',\n",
       " 'raise',\n",
       " 'return',\n",
       " 'try',\n",
       " 'while',\n",
       " 'with',\n",
       " 'yield']"
      ]
     },
     "execution_count": 1,
     "metadata": {},
     "output_type": "execute_result"
    }
   ],
   "source": [
    "#that is the keyword which is persent in the python\n",
    "import keyword\n",
    "keyword.kwlist"
   ]
  },
  {
   "cell_type": "code",
   "execution_count": 2,
   "id": "ab4f9c96",
   "metadata": {},
   "outputs": [
    {
     "data": {
      "text/plain": [
       "True"
      ]
     },
     "execution_count": 2,
     "metadata": {},
     "output_type": "execute_result"
    }
   ],
   "source": [
    "keyword.iskeyword('try')"
   ]
  },
  {
   "cell_type": "code",
   "execution_count": 3,
   "id": "b92232bb",
   "metadata": {},
   "outputs": [
    {
     "data": {
      "text/plain": [
       "False"
      ]
     },
     "execution_count": 3,
     "metadata": {},
     "output_type": "execute_result"
    }
   ],
   "source": [
    "keyword.iskeyword('rajesh')"
   ]
  },
  {
   "cell_type": "code",
   "execution_count": 4,
   "id": "9a1393ee",
   "metadata": {},
   "outputs": [],
   "source": [
    "#identifer is nothing which is userdefine module or name\n",
    "name = 'Rajesh'\n",
    "my_identifer = name"
   ]
  },
  {
   "cell_type": "code",
   "execution_count": 5,
   "id": "7ee91cca",
   "metadata": {},
   "outputs": [],
   "source": [
    "#comment means describing the name which is not executed this is judt for understanding."
   ]
  },
  {
   "cell_type": "code",
   "execution_count": 6,
   "id": "475c43b7",
   "metadata": {},
   "outputs": [
    {
     "name": "stdout",
     "output_type": "stream",
     "text": [
      "10\n"
     ]
    }
   ],
   "source": [
    "#variable is nothing which is reserve space in the memory (equal sign which is used to assign the variable)\n",
    "\n",
    "s=10  #here it is assigning the variebale 10 to the s\n",
    "print(s)"
   ]
  },
  {
   "cell_type": "code",
   "execution_count": 22,
   "id": "6ac4e15e",
   "metadata": {},
   "outputs": [
    {
     "name": "stdout",
     "output_type": "stream",
     "text": [
      "10\n",
      "20\n"
     ]
    }
   ],
   "source": [
    "#Global Variable = it is used to assces or modified the variable  outside the function. \n",
    "a=10\n",
    "def function():\n",
    "    global a\n",
    "    a += 10\n",
    "    print(a)\n",
    "print(a)\n",
    "function()"
   ]
  },
  {
   "cell_type": "code",
   "execution_count": 9,
   "id": "2bb3fb06",
   "metadata": {},
   "outputs": [
    {
     "name": "stdout",
     "output_type": "stream",
     "text": [
      "['CSK', 'RCB', 'MI', 'CSK', 'RCB', 'MI']\n"
     ]
    }
   ],
   "source": [
    "#data Types\n",
    "#List -- it store multiple varieable in single column.it is created by []\n",
    "#they will always order changable and alow duplicate value.\n",
    "# its always start with index zero\n",
    "#our list can have have multiple data types\n",
    "my_list = [\"CSK\",\"RCB\",\"MI\",'CSK', 'RCB', 'MI']\n",
    "print(my_list)"
   ]
  },
  {
   "cell_type": "code",
   "execution_count": 10,
   "id": "1aa53213",
   "metadata": {},
   "outputs": [
    {
     "data": {
      "text/plain": [
       "6"
      ]
     },
     "execution_count": 10,
     "metadata": {},
     "output_type": "execute_result"
    }
   ],
   "source": [
    "len(my_list)"
   ]
  },
  {
   "cell_type": "code",
   "execution_count": 11,
   "id": "5a4e8ab7",
   "metadata": {},
   "outputs": [
    {
     "name": "stdout",
     "output_type": "stream",
     "text": [
      "6\n"
     ]
    }
   ],
   "source": [
    "print(len(my_list))"
   ]
  },
  {
   "cell_type": "code",
   "execution_count": 12,
   "id": "67a8e8ca",
   "metadata": {},
   "outputs": [
    {
     "name": "stdout",
     "output_type": "stream",
     "text": [
      "['IND', 'AUS', 'ENG'] [1, 2, 3, 4, 5] [True, False]\n"
     ]
    }
   ],
   "source": [
    "list1 = [\"IND\",\"AUS\",\"ENG\"]\n",
    "list2 = [1,2,3,4,5]\n",
    "list3 = [True,False]\n",
    "print (list1,list2,list3)"
   ]
  },
  {
   "cell_type": "code",
   "execution_count": 13,
   "id": "9e07ec2b",
   "metadata": {},
   "outputs": [
    {
     "name": "stdout",
     "output_type": "stream",
     "text": [
      "['IND', 'AUS', 'ENG', 1, 2, 3, 4, 5, 'Male', 'Female']\n"
     ]
    }
   ],
   "source": [
    "list1 = [\"IND\",\"AUS\",\"ENG\",1,2,3,4,5,\"Male\",\"Female\"]\n",
    "print(list1)"
   ]
  },
  {
   "cell_type": "code",
   "execution_count": 15,
   "id": "1e2ca19d",
   "metadata": {},
   "outputs": [
    {
     "name": "stdout",
     "output_type": "stream",
     "text": [
      "('IND', 'AUS', 'ENG')\n"
     ]
    }
   ],
   "source": [
    "#Tuple \n",
    "#Ordere is unchangable and allow duplicate value.\n",
    "#use ()\n",
    "\n",
    "tuple1=(\"IND\",\"AUS\",\"ENG\")\n",
    "print(tuple1)"
   ]
  },
  {
   "cell_type": "code",
   "execution_count": 16,
   "id": "970d4c44",
   "metadata": {},
   "outputs": [
    {
     "name": "stdout",
     "output_type": "stream",
     "text": [
      "('CSK', 'RCB', 'MI', 'CSK', 'RCB', 'MI')\n"
     ]
    }
   ],
   "source": [
    "my_tuple = (\"CSK\",\"RCB\",\"MI\",'CSK', 'RCB', 'MI')\n",
    "print(my_tuple)"
   ]
  },
  {
   "cell_type": "code",
   "execution_count": 17,
   "id": "5910d77e",
   "metadata": {},
   "outputs": [
    {
     "name": "stdout",
     "output_type": "stream",
     "text": [
      "6\n"
     ]
    }
   ],
   "source": [
    "print(len(my_tuple))"
   ]
  },
  {
   "cell_type": "code",
   "execution_count": 19,
   "id": "f25a637d",
   "metadata": {},
   "outputs": [
    {
     "name": "stdout",
     "output_type": "stream",
     "text": [
      "{'AUS', 'IND', 'Eng'}\n"
     ]
    }
   ],
   "source": [
    "#sets\n",
    "#sets is nothing which store multiple item in a single variable\n",
    "#sets is used {}\n",
    "#we will not getting the duplicates value.\n",
    "#it will also contain different data types.\n",
    "\n",
    "set1 = {\"IND\",\"AUS\",\"Eng\",\"Eng\"}\n",
    "print(set1)"
   ]
  },
  {
   "cell_type": "code",
   "execution_count": 20,
   "id": "cd41c6f0",
   "metadata": {},
   "outputs": [
    {
     "name": "stdout",
     "output_type": "stream",
     "text": [
      "{1, 2, 'IND', 'Eng', 3, 4, 5, 'Female', 'Male', 'AUS'}\n"
     ]
    }
   ],
   "source": [
    "my_set1 = {\"IND\",\"AUS\",\"Eng\",\"Eng\",1,2,3,4,5,\"Male\",\"Female\"}\n",
    "print(my_set1)"
   ]
  },
  {
   "cell_type": "code",
   "execution_count": 23,
   "id": "ad5c389e",
   "metadata": {},
   "outputs": [],
   "source": [
    "#dictionary\n",
    "#data will be stored in the form of keys and values"
   ]
  },
  {
   "cell_type": "code",
   "execution_count": 27,
   "id": "42be68bc",
   "metadata": {},
   "outputs": [
    {
     "name": "stdout",
     "output_type": "stream",
     "text": [
      "npositional order\n",
      "to welcome ust\n"
     ]
    }
   ],
   "source": [
    "#class 2\n",
    "#string\n",
    "string1 = \"{1} {0} {2}\".format('welcome','to','ust')\n",
    "print(\"npositional order\")\n",
    "print(string1)"
   ]
  },
  {
   "cell_type": "code",
   "execution_count": 28,
   "id": "185c01a6",
   "metadata": {},
   "outputs": [
    {
     "name": "stdout",
     "output_type": "stream",
     "text": [
      "10.0\n"
     ]
    }
   ],
   "source": [
    "A=10\n",
    "B = float(A)\n",
    "print(B)\n"
   ]
  },
  {
   "cell_type": "code",
   "execution_count": 29,
   "id": "9dc8d253",
   "metadata": {},
   "outputs": [
    {
     "name": "stdout",
     "output_type": "stream",
     "text": [
      "10\n"
     ]
    }
   ],
   "source": [
    "A=10\n",
    "B = int(A)\n",
    "print(B)"
   ]
  },
  {
   "cell_type": "code",
   "execution_count": 30,
   "id": "94fc27c6",
   "metadata": {},
   "outputs": [
    {
     "name": "stdout",
     "output_type": "stream",
     "text": [
      "[1, 2, 3, 4, 5]\n"
     ]
    }
   ],
   "source": [
    "a = [1,2,3,4,11,5]\n",
    "a.remove(11)\n",
    "print(a)"
   ]
  },
  {
   "cell_type": "code",
   "execution_count": 33,
   "id": "17f53508",
   "metadata": {},
   "outputs": [
    {
     "name": "stdout",
     "output_type": "stream",
     "text": [
      "['a', 'b', 'c']\n"
     ]
    }
   ],
   "source": [
    "list1 = ['a','b','c','b','c','a','c','a']\n",
    "b=list(dict.fromkeys(list1))\n",
    "print(b)"
   ]
  },
  {
   "cell_type": "code",
   "execution_count": 34,
   "id": "29be37df",
   "metadata": {},
   "outputs": [
    {
     "name": "stdout",
     "output_type": "stream",
     "text": [
      "['CSK', 'SRH', 'RR', 'KKR']\n"
     ]
    }
   ],
   "source": [
    "mylist = [\"RCB\",'MI','CSK','SRH','RR','KKR']\n",
    "print(mylist[2:])"
   ]
  },
  {
   "cell_type": "code",
   "execution_count": 35,
   "id": "15eb0e4c",
   "metadata": {},
   "outputs": [
    {
     "name": "stdout",
     "output_type": "stream",
     "text": [
      "['CSK', 'SRH', 'RR']\n"
     ]
    }
   ],
   "source": [
    "mylist = [\"RCB\",'MI','CSK','SRH','RR','KKR']\n",
    "print(mylist[-4:-1])"
   ]
  },
  {
   "cell_type": "code",
   "execution_count": 37,
   "id": "a3974385",
   "metadata": {},
   "outputs": [
    {
     "name": "stdout",
     "output_type": "stream",
     "text": [
      "CSK is in mylist\n"
     ]
    }
   ],
   "source": [
    "mylist = [\"RCB\",'MI','CSK','SRH','RR','KKR']\n",
    "if \"CSK\" in mylist:\n",
    "    print(\"CSK is in mylist\")"
   ]
  },
  {
   "cell_type": "code",
   "execution_count": 38,
   "id": "d998e3b9",
   "metadata": {},
   "outputs": [],
   "source": [
    "mylist = [\"RCB\",'MI','CSK','SRH','RR','KKR']\n",
    "if \"IND\" in mylist:\n",
    "    print(\"IND is in mylist\")"
   ]
  },
  {
   "cell_type": "code",
   "execution_count": 39,
   "id": "d0ec309d",
   "metadata": {},
   "outputs": [
    {
     "name": "stdout",
     "output_type": "stream",
     "text": [
      "['RCB', 'MI', 'IND', 'SRH', 'RR', 'KKR']\n"
     ]
    }
   ],
   "source": [
    "mylist = [\"RCB\",'MI','CSK','SRH','RR','KKR']\n",
    "mylist[2] = \"IND\"\n",
    "print(mylist)"
   ]
  },
  {
   "cell_type": "code",
   "execution_count": 41,
   "id": "78b74e58",
   "metadata": {},
   "outputs": [
    {
     "name": "stdout",
     "output_type": "stream",
     "text": [
      "['RCB', 'IND', 'ENG', 'CSK', 'SRH', 'RR', 'KKR']\n"
     ]
    }
   ],
   "source": [
    "mylist = [\"RCB\",'MI','CSK','SRH','RR','KKR']\n",
    "mylist[1:2] = [\"IND\",\"ENG\"]\n",
    "print(mylist)"
   ]
  },
  {
   "cell_type": "code",
   "execution_count": 42,
   "id": "f518fe2f",
   "metadata": {},
   "outputs": [
    {
     "name": "stdout",
     "output_type": "stream",
     "text": [
      "['RCB', 'MI', 'IND', 'CSK', 'SRH', 'RR', 'KKR']\n"
     ]
    }
   ],
   "source": [
    "#Insert - it insert the element at specfic index point\n",
    "mylist = [\"RCB\",'MI','CSK','SRH','RR','KKR']\n",
    "mylist.insert(2,'IND')\n",
    "print(mylist)"
   ]
  },
  {
   "cell_type": "code",
   "execution_count": 43,
   "id": "9e492c18",
   "metadata": {},
   "outputs": [
    {
     "name": "stdout",
     "output_type": "stream",
     "text": [
      "['RCB', 'MI', 'CSK', 'SRH', 'RR', 'KKR', 'IND']\n"
     ]
    }
   ],
   "source": [
    "#Append - it is used to add the itenm in list at the end.\n",
    "mylist = [\"RCB\",'MI','CSK','SRH','RR','KKR']\n",
    "mylist.append('IND')\n",
    "print(mylist)"
   ]
  },
  {
   "cell_type": "code",
   "execution_count": 44,
   "id": "bba281e4",
   "metadata": {},
   "outputs": [
    {
     "name": "stdout",
     "output_type": "stream",
     "text": [
      "['Python', 'Java', 'PHP', 'C', 'C++', 'Dotnet']\n"
     ]
    }
   ],
   "source": [
    "#extend - it use to make one list\n",
    "mylist1 = ['Python','Java','PHP']\n",
    "mylist2 = ['C','C++','Dotnet']\n",
    "mylist1.extend(mylist2)\n",
    "print(mylist1)"
   ]
  },
  {
   "cell_type": "code",
   "execution_count": 45,
   "id": "e913b8bd",
   "metadata": {},
   "outputs": [
    {
     "name": "stdout",
     "output_type": "stream",
     "text": [
      "['RCB', 'MI', 'CSK', 'RR', 'KKR']\n"
     ]
    }
   ],
   "source": [
    "mylist = [\"RCB\",'MI','CSK','SRH','RR','KKR']\n",
    "mylist.remove('SRH')\n",
    "print(mylist)"
   ]
  },
  {
   "cell_type": "code",
   "execution_count": 47,
   "id": "eab34c2c",
   "metadata": {},
   "outputs": [
    {
     "name": "stdout",
     "output_type": "stream",
     "text": [
      "['RCB', 'CSK', 'SRH', 'RR', 'KKR']\n"
     ]
    }
   ],
   "source": [
    "#pop - it will remove the specfic index if i not provide the index it will remove the last index\n",
    "mylist = [\"RCB\",'MI','CSK','SRH','RR','KKR']\n",
    "mylist.pop(1)\n",
    "print(mylist)"
   ]
  },
  {
   "cell_type": "code",
   "execution_count": 49,
   "id": "7639839d",
   "metadata": {},
   "outputs": [
    {
     "ename": "NameError",
     "evalue": "name 'mylist' is not defined",
     "output_type": "error",
     "traceback": [
      "\u001b[1;31m---------------------------------------------------------------------------\u001b[0m",
      "\u001b[1;31mNameError\u001b[0m                                 Traceback (most recent call last)",
      "\u001b[1;32m<ipython-input-49-2289cc3cd03a>\u001b[0m in \u001b[0;36m<module>\u001b[1;34m\u001b[0m\n\u001b[0;32m      1\u001b[0m \u001b[0mmylist\u001b[0m \u001b[1;33m=\u001b[0m \u001b[1;33m[\u001b[0m\u001b[1;34m\"RCB\"\u001b[0m\u001b[1;33m,\u001b[0m\u001b[1;34m'MI'\u001b[0m\u001b[1;33m,\u001b[0m\u001b[1;34m'CSK'\u001b[0m\u001b[1;33m,\u001b[0m\u001b[1;34m'SRH'\u001b[0m\u001b[1;33m,\u001b[0m\u001b[1;34m'RR'\u001b[0m\u001b[1;33m,\u001b[0m\u001b[1;34m'KKR'\u001b[0m\u001b[1;33m]\u001b[0m\u001b[1;33m\u001b[0m\u001b[1;33m\u001b[0m\u001b[0m\n\u001b[0;32m      2\u001b[0m \u001b[1;32mdel\u001b[0m \u001b[0mmylist\u001b[0m\u001b[1;33m\u001b[0m\u001b[1;33m\u001b[0m\u001b[0m\n\u001b[1;32m----> 3\u001b[1;33m \u001b[0mprint\u001b[0m\u001b[1;33m(\u001b[0m\u001b[0mmylist\u001b[0m\u001b[1;33m)\u001b[0m\u001b[1;33m\u001b[0m\u001b[1;33m\u001b[0m\u001b[0m\n\u001b[0m",
      "\u001b[1;31mNameError\u001b[0m: name 'mylist' is not defined"
     ]
    }
   ],
   "source": [
    "mylist = [\"RCB\",'MI','CSK','SRH','RR','KKR']\n",
    "del mylist\n",
    "print(mylist)"
   ]
  },
  {
   "cell_type": "code",
   "execution_count": 50,
   "id": "510f904e",
   "metadata": {},
   "outputs": [
    {
     "name": "stdout",
     "output_type": "stream",
     "text": [
      "['RCB', 'MI', 'CSK', 'SRH', 'RR', 'KKR']\n"
     ]
    }
   ],
   "source": [
    "mylist = [\"RCB\",'MI','CSK','SRH','RR','KKR']\n",
    "print(mylist)"
   ]
  },
  {
   "cell_type": "code",
   "execution_count": 51,
   "id": "30df8790",
   "metadata": {},
   "outputs": [
    {
     "name": "stdout",
     "output_type": "stream",
     "text": [
      "[]\n"
     ]
    }
   ],
   "source": [
    "#clear it will delete all the values inside the list\n",
    "mylist = [\"RCB\",'MI','CSK','SRH','RR','KKR']\n",
    "mylist.clear()\n",
    "print(mylist)"
   ]
  },
  {
   "cell_type": "code",
   "execution_count": 52,
   "id": "db818361",
   "metadata": {
    "scrolled": true
   },
   "outputs": [
    {
     "name": "stdout",
     "output_type": "stream",
     "text": [
      "RCB\n",
      "MI\n",
      "CSK\n",
      "SRH\n",
      "RR\n",
      "KKR\n"
     ]
    }
   ],
   "source": [
    "mylist = [\"RCB\",'MI','CSK','SRH','RR','KKR']\n",
    "for x in mylist:\n",
    "    print(x)"
   ]
  },
  {
   "cell_type": "code",
   "execution_count": 57,
   "id": "ee27f0a0",
   "metadata": {},
   "outputs": [
    {
     "name": "stdout",
     "output_type": "stream",
     "text": [
      "RCB\n",
      "MI\n",
      "CSK\n",
      "SRH\n",
      "RR\n",
      "KKR\n"
     ]
    }
   ],
   "source": [
    "mylist = [\"RCB\",'MI','CSK','SRH','RR','KKR']\n",
    "for x in range(len(mylist)):\n",
    "    print(mylist[x])"
   ]
  },
  {
   "cell_type": "code",
   "execution_count": 59,
   "id": "d7ee7928",
   "metadata": {},
   "outputs": [
    {
     "name": "stdout",
     "output_type": "stream",
     "text": [
      "RCB\n",
      "MI\n",
      "CSK\n",
      "SRH\n",
      "RR\n",
      "KKR\n"
     ]
    }
   ],
   "source": [
    "#while loop -  while is execute the statement as long as the statement condation is correct.\n",
    "mylist = [\"RCB\",'MI','CSK','SRH','RR','KKR']\n",
    "i = 0\n",
    "while i < len(mylist):\n",
    "    print(mylist[i])\n",
    "    i=i+1"
   ]
  },
  {
   "cell_type": "code",
   "execution_count": 60,
   "id": "08db869d",
   "metadata": {},
   "outputs": [
    {
     "name": "stdout",
     "output_type": "stream",
     "text": [
      "['CSK', 'KKR', 'MI', 'RCB', 'RR', 'SRH']\n"
     ]
    }
   ],
   "source": [
    "#sort - sort function is used to sort the list in alphabatical manner\n",
    "mylist = [\"RCB\",'MI','CSK','SRH','RR','KKR']\n",
    "mylist.sort()\n",
    "print(mylist)"
   ]
  },
  {
   "cell_type": "code",
   "execution_count": 61,
   "id": "b6215d5c",
   "metadata": {},
   "outputs": [
    {
     "name": "stdout",
     "output_type": "stream",
     "text": [
      "[21, 55, 65, 76, 82, 100]\n"
     ]
    }
   ],
   "source": [
    "numlist = [100,55,65,76,82,21]\n",
    "numlist.sort()\n",
    "print(numlist)"
   ]
  },
  {
   "cell_type": "code",
   "execution_count": 62,
   "id": "78641709",
   "metadata": {},
   "outputs": [
    {
     "name": "stdout",
     "output_type": "stream",
     "text": [
      "['SRH', 'RR', 'RCB', 'MI', 'KKR', 'CSK']\n"
     ]
    }
   ],
   "source": [
    "mylist = [\"RCB\",'MI','CSK','SRH','RR','KKR']\n",
    "mylist.sort(reverse = True)\n",
    "print(mylist)"
   ]
  },
  {
   "cell_type": "code",
   "execution_count": 63,
   "id": "3cebde33",
   "metadata": {},
   "outputs": [
    {
     "name": "stdout",
     "output_type": "stream",
     "text": [
      "[100, 82, 76, 65, 55, 21]\n"
     ]
    }
   ],
   "source": [
    "numlist = [100,55,65,76,82,21]\n",
    "numlist.sort(reverse = True)\n",
    "print(numlist)"
   ]
  },
  {
   "cell_type": "code",
   "execution_count": 66,
   "id": "8470f853",
   "metadata": {},
   "outputs": [
    {
     "name": "stdout",
     "output_type": "stream",
     "text": [
      "['Delhi', 'Hyderabad', 'Trivandrum', 'banaglore', 'chennai']\n"
     ]
    }
   ],
   "source": [
    "#sort function is a case sensitive result first capital letter then move to small\n",
    "alist= ['chennai','banaglore','Hyderabad','Trivandrum','Delhi']\n",
    "alist.sort()\n",
    "print(alist)"
   ]
  },
  {
   "cell_type": "code",
   "execution_count": 67,
   "id": "a24ac495",
   "metadata": {},
   "outputs": [
    {
     "name": "stdout",
     "output_type": "stream",
     "text": [
      "['banaglore', 'chennai', 'Delhi', 'Hyderabad', 'Trivandrum']\n"
     ]
    }
   ],
   "source": [
    "alist= ['chennai','banaglore','Hyderabad','Trivandrum','Delhi']\n",
    "alist.sort(key=str.lower)\n",
    "print(alist)"
   ]
  },
  {
   "cell_type": "code",
   "execution_count": 68,
   "id": "550ad8b3",
   "metadata": {},
   "outputs": [
    {
     "name": "stdout",
     "output_type": "stream",
     "text": [
      "['Delhi', 'Trivandrum', 'Hyderabad', 'banaglore', 'chennai']\n"
     ]
    }
   ],
   "source": [
    "alist= ['chennai','banaglore','Hyderabad','Trivandrum','Delhi']\n",
    "alist.reverse()\n",
    "print(alist)"
   ]
  },
  {
   "cell_type": "code",
   "execution_count": 69,
   "id": "b13bb9d7",
   "metadata": {},
   "outputs": [
    {
     "name": "stdout",
     "output_type": "stream",
     "text": [
      "['chennai', 'banaglore', 'Hyderabad', 'Trivandrum', 'Delhi']\n"
     ]
    }
   ],
   "source": [
    "alist= ['chennai','banaglore','Hyderabad','Trivandrum','Delhi']\n",
    "blist = list(alist)\n",
    "print(blist)\n",
    "\n",
    "#these all above are the some built in method for list."
   ]
  },
  {
   "cell_type": "code",
   "execution_count": 70,
   "id": "a91d3e0a",
   "metadata": {},
   "outputs": [
    {
     "name": "stdout",
     "output_type": "stream",
     "text": [
      "('sanddep', 'umrah', 'jeffry', 'anil', 'ghousiya')\n"
     ]
    }
   ],
   "source": [
    "mytuple = (\"sanddep\",\"umrah\",\"jeffry\",'anil','ghousiya')\n",
    "print(mytuple)"
   ]
  },
  {
   "cell_type": "code",
   "execution_count": 71,
   "id": "9789d234",
   "metadata": {},
   "outputs": [
    {
     "name": "stdout",
     "output_type": "stream",
     "text": [
      "5\n"
     ]
    }
   ],
   "source": [
    "mytuple = (\"sanddep\",\"umrah\",\"jeffry\",'anil','ghousiya')\n",
    "print(len(mytuple))"
   ]
  },
  {
   "cell_type": "code",
   "execution_count": 72,
   "id": "2fa0e1ed",
   "metadata": {},
   "outputs": [
    {
     "name": "stdout",
     "output_type": "stream",
     "text": [
      "['sanddep', 'umrah', 'jeffry', 'anil', 'ghousiya']\n"
     ]
    }
   ],
   "source": [
    "x = (\"sanddep\",\"umrah\",\"jeffry\",'anil','ghousiya')\n",
    "y= list(x)\n",
    "print(y)\n"
   ]
  },
  {
   "cell_type": "code",
   "execution_count": 75,
   "id": "fcc4c408",
   "metadata": {},
   "outputs": [
    {
     "name": "stdout",
     "output_type": "stream",
     "text": [
      "('sanddep', 'umrah', 'jeffry', 'anil', 'ghousiya')\n"
     ]
    }
   ],
   "source": [
    "x=tuple(y)\n",
    "print(x)"
   ]
  },
  {
   "cell_type": "code",
   "execution_count": 76,
   "id": "025d532f",
   "metadata": {},
   "outputs": [
    {
     "name": "stdout",
     "output_type": "stream",
     "text": [
      "{'sanddep', 'anil', 'ghousiya', 'jeffry', 'umrah'}\n"
     ]
    }
   ],
   "source": [
    "myset = {\"sanddep\",\"umrah\",\"jeffry\",'anil','ghousiya'}\n",
    "print(myset)"
   ]
  },
  {
   "cell_type": "code",
   "execution_count": 77,
   "id": "b7bff692",
   "metadata": {},
   "outputs": [
    {
     "name": "stdout",
     "output_type": "stream",
     "text": [
      "{'brand': 'Maruti', 'model': 'Swift', 'year': 1983}\n"
     ]
    }
   ],
   "source": [
    "#Dict\n",
    "#it order is changable and aslo it doesnot allow duplicate\n",
    "#having key and value\n",
    "mydict = {\n",
    "    \"brand\": \"Maruti\",\n",
    "    \"model\": \"Swift\",\n",
    "    \"year\":1983\n",
    "}\n",
    "print(mydict)"
   ]
  },
  {
   "cell_type": "code",
   "execution_count": 78,
   "id": "529ae8f9",
   "metadata": {},
   "outputs": [
    {
     "name": "stdout",
     "output_type": "stream",
     "text": [
      "Maruti\n"
     ]
    }
   ],
   "source": [
    "print(mydict['brand'])"
   ]
  },
  {
   "cell_type": "code",
   "execution_count": 79,
   "id": "3a449d70",
   "metadata": {},
   "outputs": [
    {
     "name": "stdout",
     "output_type": "stream",
     "text": [
      "{'brand': 'Maruti', 'model': 'Swift', 'year': 1965}\n"
     ]
    }
   ],
   "source": [
    "mydict = {\n",
    "    \"brand\": \"Maruti\",\n",
    "    \"model\": \"Swift\",\n",
    "    \"year\":1983,\n",
    "    \"year\":1965\n",
    "}\n",
    "print(mydict)"
   ]
  },
  {
   "cell_type": "code",
   "execution_count": 80,
   "id": "7f2edf43",
   "metadata": {},
   "outputs": [
    {
     "name": "stdout",
     "output_type": "stream",
     "text": [
      "dict_keys(['brand', 'model', 'year'])\n"
     ]
    }
   ],
   "source": [
    "print(mydict.keys())"
   ]
  },
  {
   "cell_type": "code",
   "execution_count": 81,
   "id": "01098803",
   "metadata": {},
   "outputs": [
    {
     "name": "stdout",
     "output_type": "stream",
     "text": [
      "dict_values(['Maruti', 'Swift', 1965])\n"
     ]
    }
   ],
   "source": [
    "print(mydict.values())"
   ]
  },
  {
   "cell_type": "code",
   "execution_count": 82,
   "id": "4b086804",
   "metadata": {},
   "outputs": [
    {
     "name": "stdout",
     "output_type": "stream",
     "text": [
      "{'brand': 'Maruti', 'model': 'celerio', 'year': 1965}\n"
     ]
    }
   ],
   "source": [
    "mydict = {\n",
    "    \"brand\": \"Maruti\",\n",
    "    \"model\": \"Swift\",\n",
    "    \"year\":1983,\n",
    "    \"year\":1965\n",
    "}\n",
    "mydict['model'] = 'celerio'\n",
    "print(mydict)"
   ]
  },
  {
   "cell_type": "code",
   "execution_count": 83,
   "id": "8818ddef",
   "metadata": {},
   "outputs": [
    {
     "name": "stdout",
     "output_type": "stream",
     "text": [
      "jnsdfehjshhfjjhiihjkxjk\n",
      "sifdjijkdfjifkjvhf\n",
      "djsjfksjdfjhsfjkhejhuhsriejijr\n"
     ]
    }
   ],
   "source": [
    "a = \"\"\"jnsdfehjshhfjjhiihjkxjk\n",
    "sifdjijkdfjifkjvhf\n",
    "djsjfksjdfjhsfjkhejhuhsriejijr\"\"\"\n",
    "print(a)"
   ]
  },
  {
   "cell_type": "code",
   "execution_count": 85,
   "id": "a627505f",
   "metadata": {},
   "outputs": [
    {
     "name": "stdout",
     "output_type": "stream",
     "text": [
      ", World\n"
     ]
    }
   ],
   "source": [
    "#\n",
    "a='Hello, World'\n",
    "#print(a[2:5])\n",
    "print(a[5:])"
   ]
  },
  {
   "cell_type": "code",
   "execution_count": 86,
   "id": "68b1a2c2",
   "metadata": {},
   "outputs": [
    {
     "name": "stdout",
     "output_type": "stream",
     "text": [
      "HELLO, WORLD\n"
     ]
    }
   ],
   "source": [
    "a='Hello, World'\n",
    "print(a.upper())"
   ]
  },
  {
   "cell_type": "code",
   "execution_count": 87,
   "id": "a6e22c07",
   "metadata": {},
   "outputs": [
    {
     "name": "stdout",
     "output_type": "stream",
     "text": [
      "hello, world\n"
     ]
    }
   ],
   "source": [
    "a='Hello, World'\n",
    "print(a.lower())"
   ]
  },
  {
   "cell_type": "code",
   "execution_count": 88,
   "id": "0a5065fb",
   "metadata": {},
   "outputs": [
    {
     "name": "stdout",
     "output_type": "stream",
     "text": [
      "Jello, World\n"
     ]
    }
   ],
   "source": [
    "a='Hello, World'\n",
    "print(a.replace(\"H\", \"J\"))"
   ]
  },
  {
   "cell_type": "code",
   "execution_count": 89,
   "id": "014bef40",
   "metadata": {},
   "outputs": [
    {
     "name": "stdout",
     "output_type": "stream",
     "text": [
      "Hellq, Wqrld\n"
     ]
    }
   ],
   "source": [
    "a='Hello, World'\n",
    "print(a.replace(\"o\", \"q\"))"
   ]
  },
  {
   "cell_type": "code",
   "execution_count": 91,
   "id": "a18d1a23",
   "metadata": {},
   "outputs": [
    {
     "name": "stdout",
     "output_type": "stream",
     "text": [
      "hello world\n"
     ]
    }
   ],
   "source": [
    "#concatination - join two string with + operator\n",
    "a = \"hello\"\n",
    "b = \" world\"\n",
    "c = a + b\n",
    "print(c)"
   ]
  },
  {
   "cell_type": "markdown",
   "id": "5ffba585",
   "metadata": {},
   "source": [
    "#  Day 3"
   ]
  },
  {
   "cell_type": "code",
   "execution_count": 94,
   "id": "c1acef78",
   "metadata": {},
   "outputs": [
    {
     "name": "stdout",
     "output_type": "stream",
     "text": [
      "b is greater than a\n"
     ]
    }
   ],
   "source": [
    "a=33\n",
    "b=35\n",
    "if b>a:\n",
    "    print(\"b is greater than a\")"
   ]
  },
  {
   "cell_type": "code",
   "execution_count": 96,
   "id": "a1b3efec",
   "metadata": {},
   "outputs": [
    {
     "name": "stdout",
     "output_type": "stream",
     "text": [
      "a and b are equal\n"
     ]
    }
   ],
   "source": [
    "a=33\n",
    "b=33\n",
    "if b>a:\n",
    "    print(\"b is greater than a\")\n",
    "elif a == b:\n",
    "    print(\"a and b are equal\")"
   ]
  },
  {
   "cell_type": "code",
   "execution_count": 98,
   "id": "eb9f3371",
   "metadata": {},
   "outputs": [
    {
     "name": "stdout",
     "output_type": "stream",
     "text": [
      "a is greater than b\n"
     ]
    }
   ],
   "source": [
    "a=200\n",
    "b=33\n",
    "if b>a:\n",
    "    print(\"b is greater than a\")\n",
    "elif a == b:\n",
    "    print(\"a and b are equal\")\n",
    "else:\n",
    "    print(\"a is greater than b\")"
   ]
  },
  {
   "cell_type": "code",
   "execution_count": 102,
   "id": "a3575e83",
   "metadata": {},
   "outputs": [
    {
     "name": "stdout",
     "output_type": "stream",
     "text": [
      "Above ten\n",
      "also above 20\n"
     ]
    }
   ],
   "source": [
    "#Nasted - the satement within the if condation\n",
    "x = 41\n",
    "if x>10:\n",
    "    print(\"Above ten\")\n",
    "    if x>20:\n",
    "        print(\"also above 20\")\n",
    "    else:\n",
    "        print(\"but not above 20\")"
   ]
  },
  {
   "cell_type": "code",
   "execution_count": 103,
   "id": "04aabb52",
   "metadata": {},
   "outputs": [
    {
     "name": "stdout",
     "output_type": "stream",
     "text": [
      "red apple\n",
      "red banana\n",
      "red grapes\n",
      "yellow apple\n",
      "yellow banana\n",
      "yellow grapes\n",
      "green apple\n",
      "green banana\n",
      "green grapes\n"
     ]
    }
   ],
   "source": [
    "#nasted loop = loop inside loop\n",
    "colour = [\"red\",\"yellow\",\"green\"]\n",
    "fruits = [\"apple\",\"banana\",\"grapes\"]\n",
    "for x in colour:\n",
    "    for y in fruits:\n",
    "        print(x,y)"
   ]
  },
  {
   "cell_type": "code",
   "execution_count": 105,
   "id": "60165a20",
   "metadata": {},
   "outputs": [
    {
     "name": "stdout",
     "output_type": "stream",
     "text": [
      "Hello World\n"
     ]
    }
   ],
   "source": [
    "#Function -  it is block of code only execute when we call it\n",
    "def myfunct():\n",
    "    print(\"Hello World\")\n",
    "myfunct()"
   ]
  },
  {
   "cell_type": "code",
   "execution_count": null,
   "id": "5d687d87",
   "metadata": {},
   "outputs": [],
   "source": []
  }
 ],
 "metadata": {
  "kernelspec": {
   "display_name": "Python 3",
   "language": "python",
   "name": "python3"
  },
  "language_info": {
   "codemirror_mode": {
    "name": "ipython",
    "version": 3
   },
   "file_extension": ".py",
   "mimetype": "text/x-python",
   "name": "python",
   "nbconvert_exporter": "python",
   "pygments_lexer": "ipython3",
   "version": "3.8.8"
  }
 },
 "nbformat": 4,
 "nbformat_minor": 5
}
