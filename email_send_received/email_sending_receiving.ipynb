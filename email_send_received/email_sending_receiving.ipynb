{
 "cells": [
  {
   "cell_type": "markdown",
   "id": "539b4f82",
   "metadata": {},
   "source": [
    "# getpass"
   ]
  },
  {
   "cell_type": "code",
   "execution_count": null,
   "id": "b729fe20",
   "metadata": {},
   "outputs": [],
   "source": [
    "import getpass  #for using get pass we have to import the library(inbuilt)\n",
    "c=getpass.getpass(\"Password\")\n",
    "print(c)"
   ]
  },
  {
   "cell_type": "code",
   "execution_count": null,
   "id": "922be304",
   "metadata": {},
   "outputs": [],
   "source": [
    "import getpass\n",
    "c=getpass.getpass(\"Enter your password: \")  #secure way\n",
    "# c=input(\"Enter your password: \")   #not secure\n",
    "if c=='rajesh':\n",
    "    print(\"password match\")\n",
    "else:\n",
    "    print(\"Incorrect password\")\n",
    "    "
   ]
  },
  {
   "cell_type": "markdown",
   "id": "e4cd7d19",
   "metadata": {},
   "source": [
    "# Sending Email"
   ]
  },
  {
   "cell_type": "code",
   "execution_count": null,
   "id": "68f0a754",
   "metadata": {},
   "outputs": [],
   "source": [
    "# for sending email we have to import smtplib\n",
    "import smtplib"
   ]
  },
  {
   "cell_type": "code",
   "execution_count": null,
   "id": "9522cea4",
   "metadata": {},
   "outputs": [],
   "source": [
    "#to check the connection is established or not , tls - Transport Layer Security, ssl -Secure Sockets Layer\n",
    "# we can provide any server like for smtp server details we provide \"smtp.gmail.com\" with port number like 587\n",
    "with smtplib.SMTP('smtp.gmail.com',587)as smtp:  #tls -587  ssl-465\n",
    "    print(smtp.noop())  \n",
    "    print(smtp.helo())  \n",
    "    print(smtp.ehlo())"
   ]
  },
  {
   "cell_type": "code",
   "execution_count": null,
   "id": "fc3fef52",
   "metadata": {},
   "outputs": [],
   "source": [
    "import smtplib\n",
    "smtp_object=smtplib.SMTP('smtp.gmail.com',587)\n",
    "print(smtp_object.starttls())"
   ]
  },
  {
   "cell_type": "code",
   "execution_count": null,
   "id": "e599d733",
   "metadata": {},
   "outputs": [],
   "source": [
    "#smtplib  is a built-in  Python library for sending emails using the Simple Mail Transfer Protocol (SMTP).\n",
    "#by this we can send mail to single user or multi-user\n",
    "#less secure app or manage google account to get 16 digit passwords\n",
    "\n",
    "import smtplib\n",
    "import getpass\n",
    "\n",
    "smtp_object=smtplib.SMTP('smtp.gmail.com',587)\n",
    "smtp_object.starttls()\n",
    "print('connected to tls')\n",
    "email=input(\"Enter your email:\")\n",
    "pasword=getpass.getpass(\"Enter your password:\") \n",
    "\n",
    "smtp_object.login(email,pasword)\n",
    "print('login successfull')\n",
    "smtp_object.quit()"
   ]
  },
  {
   "cell_type": "code",
   "execution_count": null,
   "id": "cd5ef8f3",
   "metadata": {
    "scrolled": true
   },
   "outputs": [],
   "source": [
    "import smtplib\n",
    "import getpass\n",
    "\n",
    "email=input(\"Enter your mail id:\")\n",
    "password=getpass.getpass(\"ENter your password:\")#16 digit generated passowrd\n",
    "\n",
    "rec_mailid='rajeshara76@gmail.com' #or you can send mail to multiple id by creating list['abc@g.com','xyz@gmail.com']\n",
    "subject= 'Welcome Mail'\n",
    "body=\"Please click this link to get 5rs...\"\n",
    "\n",
    "msg=\"Subject: \"+subject+'\\n'+body\n",
    "#msg=subject+body\n",
    "\n",
    "obj=smtplib.SMTP('smtp.gmail.com',587)\n",
    "obj.starttls()\n",
    "obj.login(email,password)\n",
    "\n",
    "obj.sendmail(email,rec_mailid,msg)\n",
    "print(\"mail sent\")\n",
    "obj.quit()\n",
    "\n",
    "\n",
    "\n"
   ]
  },
  {
   "cell_type": "markdown",
   "id": "d92fcd44",
   "metadata": {},
   "source": [
    "# Receiving Mail"
   ]
  },
  {
   "cell_type": "code",
   "execution_count": null,
   "id": "6527620c",
   "metadata": {},
   "outputs": [],
   "source": [
    " # imaplib is used for accessing emails over imap protocol (IMAP stands for Internet Mail Access Protocol)\n",
    "import imaplib\n",
    "import getpass\n",
    "m=imaplib.IMAP4_SSL('imap.gmail.com')\n",
    "e='rajesh.kumar76312@gmail.com'#input(\"Enter your email:\")\n",
    "p=getpass.getpass(\"Enter password:\")\n",
    "m.login(e,p)#okrmdingoypheskw\n",
    "print('login success')\n",
    "m.logout()\n",
    "print(\"logout success\")"
   ]
  },
  {
   "cell_type": "code",
   "execution_count": null,
   "id": "1bd65432",
   "metadata": {},
   "outputs": [],
   "source": [
    "import imaplib\n",
    "import getpass\n",
    "m=imaplib.IMAP4_SSL('imap.gmail.com')\n",
    "e='rajesh.kumar76312@gmail.com'#input(\"Enter your email:\")\n",
    "p=getpass.getpass(\"Enter password:\")\n",
    "m.login(e,p)#okrmdingoypheskw\n",
    "print('login success')\n",
    "print(m.list())\n",
    "m.logout()\n",
    "print(\"logout success\")"
   ]
  },
  {
   "cell_type": "code",
   "execution_count": null,
   "id": "23516f6a",
   "metadata": {},
   "outputs": [],
   "source": [
    "import imaplib\n",
    "import getpass\n",
    "m=imaplib.IMAP4_SSL('imap.gmail.com')\n",
    "e='rajesh.kumar76312@gmail.com'#input(\"Enter your email:\")\n",
    "p=getpass.getpass(\"Enter password:\")\n",
    "m.login(e,p)#okrmdingoypheskw\n",
    "# print('login success')\n",
    "print(m.select('INBOX'))#connect to inbox\n",
    "# m.search('')\n",
    "print(m.logout())\n",
    "print(\"logout success\")"
   ]
  },
  {
   "cell_type": "code",
   "execution_count": null,
   "id": "0b5aa6e3",
   "metadata": {},
   "outputs": [],
   "source": [
    "import imaplib\n",
    "import getpass\n",
    "import email\n",
    "\n",
    "email_id='rajesh.kumar76312@gmail.com'\n",
    "email_pass=getpass.getpass(\"Enter password: \")\n",
    "mail=imaplib.IMAP4_SSL('imap.gmail.com')\n",
    "mail.login(email_id,email_pass)\n",
    "mail.select('INBOX')\n",
    "# typ, data = mail.search(None, 'ALL')\n",
    "typ,data=mail.fetch(b'53','(RFC822)')\n",
    "msg=email.message_from_string(data[0][1].decode('utf-8'))\n",
    "for i in msg.walk():\n",
    "    print(i)"
   ]
  },
  {
   "cell_type": "code",
   "execution_count": null,
   "id": "55b8a3ce",
   "metadata": {},
   "outputs": [],
   "source": [
    "import imaplib\n",
    "import email,getpass\n",
    "email_id='rajesh.kumar76312@gmail.com'\n",
    "email_pass=getpass.getpass(\"Enter password: \")\n",
    "mail=imaplib.IMAP4_SSL('imap.gmail.com')#creating secure connection\n",
    "mail.login(email_id,email_pass)\n",
    "mail.select(\"inbox\")\n",
    "\n",
    "# ph,s_data=mail.search(None,'ALL')\n",
    "p_holder,s_data=mail.search(None,'UNSEEN')\n",
    "\n",
    "for i in s_data[0].split():\n",
    "    print(i)\n",
    "    p_holder,f_data=mail.fetch(i,'(RFC822)')\n",
    "    print(f_data)\n",
    "\n",
    "\n"
   ]
  },
  {
   "cell_type": "code",
   "execution_count": null,
   "id": "7e13a3db",
   "metadata": {},
   "outputs": [],
   "source": [
    "import imaplib\n",
    "import email\n",
    "import getpass\n",
    "email_id='rajesh.kumar76312@gmail.com'\n",
    "email_pass=getpass.getpass(\"Enter password: \")\n",
    "mail=imaplib.IMAP4_SSL('imap.gmail.com')#creating secure connection\n",
    "mail.login(email_id,email_pass)\n",
    "mail.select(\"inbox\")\n",
    "\n",
    "# ph,s_data=mail.search(None,'ALL')\n",
    "p_holder,s_data=mail.search(None,'UNSEEN')\n",
    "\n",
    "for i in s_data[0].split():\n",
    "    p_holder,f_data=mail.fetch(i,'(RFC822)')\n",
    "    p_holder,exp_data=f_data[0]  #expaining data\n",
    "#     print(exp_data)\n",
    "    email_msg=email.message_from_bytes(exp_data)\n",
    "    print(email_msg)"
   ]
  },
  {
   "cell_type": "code",
   "execution_count": null,
   "id": "b2e096c3",
   "metadata": {},
   "outputs": [],
   "source": [
    "import imaplib\n",
    "import email\n",
    "import getpass\n",
    "email_id='rajesh.kumar76312@gmail.com'\n",
    "email_pass=getpass.getpass(\"Enter password: \")\n",
    "mail=imaplib.IMAP4_SSL('imap.gmail.com')#creating secure connection\n",
    "mail.login(email_id,email_pass)\n",
    "mail.select(\"inbox\")\n",
    "\n",
    "# ph,s_data=mail.search(None,'ALL')\n",
    "p_holder,s_data=mail.search(None,'UNSEEN')\n",
    "\n",
    "for i in s_data[0].split():\n",
    "    p_holder,f_data=mail.fetch(i,'(RFC822)')\n",
    "    p_holder,exp_data=f_data[0]  #expaining data\n",
    "    email_msg=email.message_from_bytes(exp_data)\n",
    "    for j in email_msg.walk():\n",
    "        if j.get_content_type()==\"text/plain\":\n",
    "            body=j.get_payload()\n",
    "            print(body)\n",
    "    "
   ]
  },
  {
   "cell_type": "code",
   "execution_count": null,
   "id": "91645e26",
   "metadata": {},
   "outputs": [],
   "source": []
  }
 ],
 "metadata": {
  "kernelspec": {
   "display_name": "Python 3",
   "language": "python",
   "name": "python3"
  },
  "language_info": {
   "codemirror_mode": {
    "name": "ipython",
    "version": 3
   },
   "file_extension": ".py",
   "mimetype": "text/x-python",
   "name": "python",
   "nbconvert_exporter": "python",
   "pygments_lexer": "ipython3",
   "version": "3.8.8"
  }
 },
 "nbformat": 4,
 "nbformat_minor": 5
}
